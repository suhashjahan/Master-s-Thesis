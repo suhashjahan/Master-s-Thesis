{
 "cells": [
  {
   "cell_type": "markdown",
   "metadata": {
    "id": "Hj8VAx9OzGyI"
   },
   "source": [
    "**Date: 09.09.2022**\n",
    "<br>\n",
    "**Author: Mohammad Suhash Jahan**\n"
   ]
  },
  {
   "cell_type": "markdown",
   "metadata": {
    "id": "SGRkl_bJ0NJf"
   },
   "source": [
    "This script is written for the data visualisation, performance metrics and energy consumption calculation of the mMCDI plant of the project 'innovatION' (https://www.innovat-ion.de) as part of my master's thesis titled 'Selective desalination by Membrane Capacitive Deionisation'. The script is written using Google Colaboratory (or popularly known as Colab). But it is also possible to use other Python IDEs.\n",
    "<br>\n",
    "The script contains several functions for performing the following tasks:\n",
    "1. Preprocessing of the dataset obtained from the plant.\n",
    "2. Visulaisation of the data and divide the data into cycles.\n",
    "3. Finally, the desalination performance and energy consumption is calculated.\n",
    "\n",
    "\n",
    "\n"
   ]
  },
  {
   "cell_type": "code",
   "execution_count": 1,
   "metadata": {
    "id": "2pD5Wc7_20nz"
   },
   "outputs": [],
   "source": [
    "#importing libraries\n",
    "import pandas as pd\n",
    "import numpy as np\n",
    "import matplotlib.pyplot as plt\n",
    "%matplotlib inline"
   ]
  },
  {
   "cell_type": "code",
   "execution_count": 2,
   "metadata": {
    "id": "FjUNFb4J3rR4"
   },
   "outputs": [],
   "source": [
    "#Loading data\n",
    "#name = pd.read_csv('Enter your file location)"
   ]
  },
  {
   "cell_type": "markdown",
   "metadata": {
    "id": "nUwJwFxL7a1N"
   },
   "source": [
    "Functions:"
   ]
  },
  {
   "cell_type": "markdown",
   "metadata": {
    "id": "S7ETzLKa7k4d"
   },
   "source": [
    "1) preprocessing: This function does three things. It renames the columns name into understandable keywords, calculates the timesteps of the logged data and finds the average voltage of the cells. Input of the function is the dataframe."
   ]
  },
  {
   "cell_type": "code",
   "execution_count": 3,
   "metadata": {
    "id": "Yqoew4QF8VTI"
   },
   "outputs": [],
   "source": [
    "#preprocessing\n",
    "def preprocessing(df):\n",
    "  df.rename(columns = {'Loc Time':'time','M2':'flow_rate','M4':'feed_ph', 'M5':'feed_cond','M6':'feed_temp','M8':'eff_ph','M9':'eff_cond','M10':'eff_temp','M11':'voltage','M12':'current','M13':'Z1V1','M14':'Z1V2','M15':'Z1V3'},inplace = True)\n",
    "  df['time']=pd.to_datetime(df.time,format='%Y-%m-%d %H:%M:%S.%f')\n",
    "  df['time_diff'] = df[\"time\"].diff().apply(lambda x: x/np.timedelta64(1, 's')).fillna(0).astype('float')#calculating time difference in s\n",
    "  df['timestep']=df['time_diff'].cumsum()\n",
    "  df['avg_voltage'] = df[['Z1V1','Z1V2','Z1V3']].mean(axis=1)\n",
    "  return df.head()"
   ]
  },
  {
   "cell_type": "markdown",
   "metadata": {
    "id": "-Q79cFmT9S3d"
   },
   "source": [
    "2) plot_variables: It plots current, average cell voltage, effluent conductivity and effluent pH over time. It is helpful for observing the changes of the variables over time. It takes the dataframe as input."
   ]
  },
  {
   "cell_type": "code",
   "execution_count": 4,
   "metadata": {
    "id": "6IdxoLFc9KEE"
   },
   "outputs": [],
   "source": [
    "#plot variables\n",
    "def plot_variables(df):\n",
    "  fig, axes = plt.subplots(nrows=2, ncols=2, figsize=(10, 6))\n",
    "  fig.tight_layout()\n",
    "  ax1, ax2, ax3, ax4 = axes.flatten()\n",
    "  ax1.plot(df.timestep, df.current, color='0', ls='solid')\n",
    "  ax1.axhline(y=0, color='b', linestyle='-',label='X-axis')\n",
    "  ax1.set_xlabel('Time (s)')\n",
    "  ax1.set_ylabel('Current (A)')\n",
    "  ax1.grid(True)\n",
    "  ax2.plot(df.timestep, df.avg_voltage, color='r', ls='solid')\n",
    "  ax2.axhline(y=0, color='b', linestyle='-',label='X-axis')\n",
    "  ax2.set_xlabel('Time (s)')\n",
    "  ax2.set_ylabel('Voltage (V)')\n",
    "  ax2.grid(True)\n",
    "  ax3.plot(df.timestep, df.eff_cond, color='b', ls='solid')\n",
    "  ax3.set_xlabel('Time (s)')\n",
    "  ax3.set_ylabel('Conductivity (µS/cm)')\n",
    "  ax3.grid(True)\n",
    "  ax4.plot(df.timestep, df.eff_ph, color='g', ls='solid')\n",
    "  ax4.set_xlabel('Time (s)')\n",
    "  ax4.set_ylabel('pH')\n",
    "  ax4.grid(True)"
   ]
  },
  {
   "cell_type": "markdown",
   "metadata": {
    "id": "KvjKn5x3x01c"
   },
   "source": [
    "3) divide_cycles: This function divides the data according to each half-cycle (i.e., each adsorption/desorption cycle). It gives the row index of each cycle's end time, which can be used to determine the duration of one steady-state adsorption cycle. Here, the function takes the 4th cycle as steady cycle. The dataframe is the input of the function."
   ]
  },
  {
   "cell_type": "code",
   "execution_count": 5,
   "metadata": {
    "id": "D_W7RVByx-EX"
   },
   "outputs": [],
   "source": [
    "#divide data into cycles\n",
    "def divide_cycles(df):\n",
    "  df['current_multi']=df['current']*df.shift(1)['current'] #multiplying consecutive currents to find change in cycle\n",
    "  end_cycle=df.index[df['current_multi']<0].tolist()        \n",
    "  number_of_cycles=len(end_cycle)/2\n",
    "  start=end_cycle[5] #4th cycle\n",
    "  stop=end_cycle[6]\n",
    "  adsorption_time=df.loc[stop,'timestep']-df.loc[start,'timestep']\n",
    "  tad=\"{:.2f}\".format(adsorption_time)\n",
    "  print('End index of half cycles: ',end_cycle)\n",
    "  print('Number of total cycles: ',number_of_cycles)\n",
    "  print('Starting index of 4th adsorption cycle: ',start)\n",
    "  print('Stopping index of 4th adsorption cycle: ',stop)\n",
    "  print('Adsorption duration:',tad,'s') "
   ]
  },
  {
   "cell_type": "markdown",
   "metadata": {
    "id": "hndVDxFF3ohO"
   },
   "source": [
    "4) charge_efficiency: This function takes the dataset and the regression coefficient of the conductivity-concentration relationship of the salt as input and prints the charge efficieny."
   ]
  },
  {
   "cell_type": "code",
   "execution_count": 6,
   "metadata": {
    "id": "XIELbSjj3isD"
   },
   "outputs": [],
   "source": [
    "#charge efficiency\n",
    "def charge_efficiency(df,reg_coef):\n",
    "  df['current_multi']=df['current']*df.shift(1)['current']\n",
    "  end_cycle=df.index[df['current_multi']<0].tolist()\n",
    "  start=end_cycle[5]\n",
    "  stop=end_cycle[6]\n",
    "  df['diff_c'] = df['feed_cond']-df['eff_cond'] #calculating concentration difference of effluent and feed\n",
    "  F = 96485/(3600*58*1000) \n",
    "  sum_diff_c = df.iloc[start:stop].diff_c.sum() #isolating one steady-state cycle\n",
    "  sum_i = df.iloc[start:stop].current.sum()\n",
    "  deltac = sum_diff_c\n",
    "  delt_conc = deltac/reg_coef #converting conductivity to concentration\n",
    "  Q = df.iloc[start:stop].flow_rate.mean()\n",
    "  ce = ((F*Q*delt_conc)/sum_i)*100\n",
    "  ce = \"{:.0f}\".format(ce)\n",
    "  print('Charge Efficiency: ', ce,'%')"
   ]
  },
  {
   "cell_type": "markdown",
   "metadata": {
    "id": "d-lZ_tIB6W6C"
   },
   "source": [
    "5) salt_retention: It takes the dataframe as input and return the percentage of salt retention."
   ]
  },
  {
   "cell_type": "code",
   "execution_count": 7,
   "metadata": {
    "id": "CLBq5nvC5h_g"
   },
   "outputs": [],
   "source": [
    "#salt retention\n",
    "def salt_retention(df):\n",
    "  df['current_multi']=df['current']*df.shift(1)['current']\n",
    "  end_cycle=df.index[df['current_multi']<0].tolist()\n",
    "  start=end_cycle[5]\n",
    "  stop=end_cycle[6]\n",
    "  df['diff_c'] = df['feed_cond']-df['eff_cond']\n",
    "  sum_diff_c = df.iloc[start:stop].diff_c.sum()\n",
    "  sum_feed_c = df.iloc[start:stop].feed_cond.sum()\n",
    "  sr = (sum_diff_c/sum_feed_c)*100\n",
    "  sr = \"{:.2f}\".format(sr)\n",
    "  print('Salt Retention: ', sr,'%')"
   ]
  },
  {
   "cell_type": "markdown",
   "metadata": {
    "id": "Yjf9GydO8YiX"
   },
   "source": [
    "6) sac_asar: This function takes the dataframe, mass of the electrode and the regression coefficient of the conductivity-concentration relationship of the salt as input and return the salt adsorption capacity and average salt adsorption rate."
   ]
  },
  {
   "cell_type": "code",
   "execution_count": 8,
   "metadata": {
    "id": "Yqr8qXiW6629"
   },
   "outputs": [],
   "source": [
    "#salt adsorption capacity & average salt adsorption rate\n",
    "def sac_asar(df,m,reg_coef):\n",
    "  df['current_multi']=df['current']*df.shift(1)['current']\n",
    "  end_cycle=df.index[df['current_multi']<0].tolist()\n",
    "  start=end_cycle[5]\n",
    "  stop=end_cycle[6]\n",
    "  tad=df.loc[stop,'timestep']-df.loc[start,'timestep']\n",
    "  df['diff_c'] = df['feed_cond']-df['eff_cond']\n",
    "  sum_diff_c = df.iloc[start:stop].diff_c.sum()\n",
    "  deltac = sum_diff_c\n",
    "  delt_conc = deltac/reg_coef\n",
    "  Q = df.iloc[start:stop].flow_rate.mean()\n",
    "  sac = (Q*delt_conc)/(m*3600)\n",
    "  sac_2f = \"{:.2f}\".format(sac)\n",
    "  asar=sac/(tad/60)\n",
    "  asar = \"{:.2f}\".format(asar)\n",
    "  print('SAC: ',sac_2f,'mg/g')\n",
    "  print('ASAR: ',asar,'mg/g/min')"
   ]
  },
  {
   "cell_type": "markdown",
   "metadata": {
    "id": "pxoDnMygdk7P"
   },
   "source": [
    "7) sec: It calculates the specific energy consumption of the desalination process for per mg of salt removed and takes the dataframe and regression coefficient of the conductivity-concentration relationship of the salt as input."
   ]
  },
  {
   "cell_type": "code",
   "execution_count": 9,
   "metadata": {
    "id": "e3XV1hSVc64T"
   },
   "outputs": [],
   "source": [
    "#specific energy consumption\n",
    "def sec(df,reg_coef):\n",
    "  df['current_multi']=df['current']*df.shift(1)['current']\n",
    "  end_cycle=df.index[df['current_multi']<0].tolist()\n",
    "  start=end_cycle[5]\n",
    "  stop=end_cycle[6]\n",
    "  df['v_i']=df['avg_voltage']*df['current']\n",
    "  sum_vi = df.iloc[start:stop].v_i.sum()\n",
    "  df['diff_c'] = df['feed_cond']-df['eff_cond']\n",
    "  sum_diff_c = df.iloc[start:stop].diff_c.sum()\n",
    "  delt_conc = sum_diff_c/reg_coef\n",
    "  Q = df.iloc[start:stop].flow_rate.mean()\n",
    "  sec = (3600*sum_vi)/(Q*delt_conc)\n",
    "  sec = \"{:.2f}\".format(sec)\n",
    "  print('SEC: ',sec,'J/mg')"
   ]
  },
  {
   "cell_type": "markdown",
   "metadata": {
    "id": "oAU-ATsD-Hvi"
   },
   "source": [
    "8) sec_kwhm3: It takes the dataframe as input and calculate the enery requirement to desalinate per m^3 of water for RVD operation."
   ]
  },
  {
   "cell_type": "code",
   "execution_count": 10,
   "metadata": {
    "id": "0r0zIUVu-NBW"
   },
   "outputs": [],
   "source": [
    "#specific energy consumption in kWh/m^3\n",
    "def sec_kwhm3(df):\n",
    "  df['current_multi']=df['current']*df.shift(1)['current']\n",
    "  end_cycle=df.index[df['current_multi']<0].tolist()\n",
    "  start=end_cycle[5]\n",
    "  stop=end_cycle[6]\n",
    "  de_stop=end_cycle[7]\n",
    "  df['v_i']=df['avg_voltage']*df['current']\n",
    "  sum_vi_ad = df.iloc[start:stop].v_i.sum()\n",
    "  sum_vi_de= df.iloc[stop:de_stop].v_i.sum()\n",
    "  Q = df.iloc[start:stop].flow_rate.mean()\n",
    "  tad=df.loc[stop,'timestep']-df.loc[start,'timestep']\n",
    "  tde=df.loc[de_stop,'timestep']-df.loc[stop,'timestep']\n",
    "  sec_kwhm3=(sum_vi_ad+sum_vi_de)/(Q*tad)\n",
    "  sec_kwhm3 = \"{:.2f}\".format(sec_kwhm3)\n",
    "  print('SEC: ',sec_kwhm3,'kWh/m^3')"
   ]
  },
  {
   "cell_type": "markdown",
   "metadata": {
    "id": "5XUY0_5dfEMR"
   },
   "source": [
    "9) throughput: This function calculates the thorughput and takes three inputs - the dataframe, number of electrodes and area of an electrode."
   ]
  },
  {
   "cell_type": "code",
   "execution_count": 11,
   "metadata": {
    "id": "-mCSLv33eIWE"
   },
   "outputs": [],
   "source": [
    "#throughput\n",
    "def throughput(df,n,A):\n",
    "  df['current_multi']=df['current']*df.shift(1)['current']\n",
    "  end_cycle=df.index[df['current_multi']<0].tolist()\n",
    "  start=end_cycle[5]\n",
    "  stop=end_cycle[6]\n",
    "  tad=df.loc[stop,'timestep']-df.loc[start,'timestep']\n",
    "  V_d =  df.iloc[start:stop].flow_rate.mean()*(tad/3600)\n",
    "  t_cycle = tad/3600\n",
    "  p = V_d/(n*A*t_cycle)\n",
    "  p= \"{:.2f}\".format(p)\n",
    "  print('Throughput:',p,'L/h/m^2')"
   ]
  },
  {
   "cell_type": "markdown",
   "metadata": {
    "id": "2pdypJOrnvvO"
   },
   "source": [
    "10) water_recovery: This function takes the dataframe as input and provides water recovery in percentage as output. This function calculates correctly when the flowrate was same in adsorption and desorption cycle."
   ]
  },
  {
   "cell_type": "code",
   "execution_count": 12,
   "metadata": {
    "id": "jPrGwgpElaeh"
   },
   "outputs": [],
   "source": [
    "#water recovery\n",
    "def water_recovery(df):\n",
    "  df['current_multi']=df['current']*df.shift(1)['current']\n",
    "  end_cycle=df.index[df['current_multi']<0].tolist()\n",
    "  start_ad=end_cycle[5]\n",
    "  stop_ad=end_cycle[6]\n",
    "  stop_de=end_cycle[7]\n",
    "  adsorption_time=df.loc[stop_ad,'timestep']-df.loc[start_ad,'timestep']\n",
    "  desorption_time=df.loc[stop_de,'timestep']-df.loc[stop_ad,'timestep']\n",
    "  wr=(adsorption_time/(adsorption_time+desorption_time))*100\n",
    "  wr= \"{:.2f}\".format(wr)\n",
    "  print('Water Recovery: ',wr,'%')"
   ]
  },
  {
   "cell_type": "markdown",
   "metadata": {
    "id": "tkTgt-1kS2Lv"
   },
   "source": [
    "11) sec_kwhm3_zvd: It takes the dataframe as input. If the experiment was run in ZVD mode than it calculates the energy requirements by considering the adsorption cycle only."
   ]
  },
  {
   "cell_type": "code",
   "execution_count": 13,
   "metadata": {
    "id": "jPdItOdjSzGP"
   },
   "outputs": [],
   "source": [
    "#specific energy consumption in kWh/m^3 for zvd\n",
    "def sec_kwhm3_zvd(df):\n",
    "  df['current_multi']=df['current']*df.shift(1)['current']\n",
    "  end_cycle=df.index[df['current_multi']<0].tolist()\n",
    "  start=end_cycle[5]\n",
    "  stop=end_cycle[6]\n",
    "  df['v_i']=df['avg_voltage']*df['current']\n",
    "  sum_vi_ad = df.iloc[start:stop].v_i.sum()\n",
    "  Q = df.iloc[start:stop].flow_rate.mean()\n",
    "  tad=df.loc[stop,'timestep']-df.loc[start,'timestep']\n",
    "  sec_kwhm3=(sum_vi_ad)/(Q*tad)\n",
    "  sec_kwhm3 = \"{:.2f}\".format(sec_kwhm3)\n",
    "  print('SEC: ',sec_kwhm3,'kWh/m^3')"
   ]
  }
 ],
 "metadata": {
  "colab": {
   "provenance": []
  },
  "kernelspec": {
   "display_name": "Python 3 (ipykernel)",
   "language": "python",
   "name": "python3"
  },
  "language_info": {
   "codemirror_mode": {
    "name": "ipython",
    "version": 3
   },
   "file_extension": ".py",
   "mimetype": "text/x-python",
   "name": "python",
   "nbconvert_exporter": "python",
   "pygments_lexer": "ipython3",
   "version": "3.9.12"
  }
 },
 "nbformat": 4,
 "nbformat_minor": 1
}
